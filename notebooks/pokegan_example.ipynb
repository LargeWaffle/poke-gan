{
 "metadata": {
  "kernelspec": {
   "language": "python",
   "display_name": "Python 3",
   "name": "python3"
  },
  "language_info": {
   "pygments_lexer": "ipython3",
   "nbconvert_exporter": "python",
   "version": "3.6.4",
   "file_extension": ".py",
   "codemirror_mode": {
    "name": "ipython",
    "version": 3
   },
   "name": "python",
   "mimetype": "text/x-python"
  }
 },
 "nbformat_minor": 4,
 "nbformat": 4,
 "cells": [
  {
   "cell_type": "code",
   "source": [
    "import random\n",
    "import torch\n",
    "import torch.nn as nn\n",
    "import torch.nn.parallel\n",
    "import torch.backends.cudnn as cudnn\n",
    "import torch.optim as optim\n",
    "import torch.utils.data\n",
    "import torchvision.datasets as dset\n",
    "import torchvision.transforms as transforms\n",
    "import torchvision.utils as vutils\n",
    "import numpy as np\n",
    "import matplotlib.pyplot as plt\n",
    "import matplotlib.animation as animation\n",
    "from PIL import Image\n",
    "from torchvision.io import read_image, ImageReadMode"
   ],
   "metadata": {
    "execution": {
     "iopub.status.busy": "2023-04-18T21:59:35.296163Z",
     "iopub.execute_input": "2023-04-18T21:59:35.296600Z",
     "iopub.status.idle": "2023-04-18T21:59:38.333627Z",
     "shell.execute_reply.started": "2023-04-18T21:59:35.296533Z",
     "shell.execute_reply": "2023-04-18T21:59:38.332365Z"
    },
    "trusted": true
   },
   "execution_count": null,
   "outputs": []
  },
  {
   "cell_type": "code",
   "source": [
    "manualSeed = 999\n",
    "# manualSeed = random.randint(1, 10000) # use if you want new results\n",
    "print(\"Random Seed: \", manualSeed)\n",
    "random.seed(manualSeed)\n",
    "torch.manual_seed(manualSeed)"
   ],
   "metadata": {
    "execution": {
     "iopub.status.busy": "2023-04-18T21:59:38.335826Z",
     "iopub.execute_input": "2023-04-18T21:59:38.336217Z",
     "iopub.status.idle": "2023-04-18T21:59:38.349265Z",
     "shell.execute_reply.started": "2023-04-18T21:59:38.336179Z",
     "shell.execute_reply": "2023-04-18T21:59:38.347959Z"
    },
    "trusted": true
   },
   "execution_count": null,
   "outputs": []
  },
  {
   "cell_type": "code",
   "source": [
    "# Root directory for dataset\n",
    "dataroot = \"/kaggle/input/all-pokemon\"\n",
    "\n",
    "# Number of workers for dataloader\n",
    "workers = 2\n",
    "\n",
    "# Batch size during training. Should be <= 64\n",
    "batch_size = 64\n",
    "\n",
    "image_size = 64\n",
    "\n",
    "# Number of channels in the training images. For color images this is 3\n",
    "nc = 3\n",
    "\n",
    "# Size of z latent vector (i.e. size of generator input)\n",
    "nz = 128\n",
    "\n",
    "# Size of feature maps in generator\n",
    "ngf = 64\n",
    "\n",
    "# Size of feature maps in discriminator\n",
    "ndf = 64\n",
    "\n",
    "num_epochs = 150\n",
    "\n",
    "lr = 0.0002\n",
    "\n",
    "# Beta1 hyperparam for Adam optimizers\n",
    "beta1 = 0.5\n",
    "ngpu = 2"
   ],
   "metadata": {
    "execution": {
     "iopub.status.busy": "2023-04-18T21:59:38.351063Z",
     "iopub.execute_input": "2023-04-18T21:59:38.351469Z",
     "iopub.status.idle": "2023-04-18T21:59:38.360163Z",
     "shell.execute_reply.started": "2023-04-18T21:59:38.351426Z",
     "shell.execute_reply": "2023-04-18T21:59:38.359145Z"
    },
    "trusted": true
   },
   "execution_count": null,
   "outputs": []
  },
  {
   "cell_type": "code",
   "source": [
    "# custom weights initialization called on netG and netD\n",
    "def weights_init(m):\n",
    "    classname = m.__class__.__name__\n",
    "    if classname.find('Conv') != -1:\n",
    "        nn.init.normal_(m.weight.data, 0.0, 0.02)\n",
    "    elif classname.find('BatchNorm') != -1:\n",
    "        nn.init.normal_(m.weight.data, 1.0, 0.02)\n",
    "        nn.init.constant_(m.bias.data, 0)"
   ],
   "metadata": {
    "execution": {
     "iopub.status.busy": "2023-04-18T21:59:38.362767Z",
     "iopub.execute_input": "2023-04-18T21:59:38.363361Z",
     "iopub.status.idle": "2023-04-18T21:59:38.378643Z",
     "shell.execute_reply.started": "2023-04-18T21:59:38.363325Z",
     "shell.execute_reply": "2023-04-18T21:59:38.377163Z"
    },
    "trusted": true
   },
   "execution_count": null,
   "outputs": []
  },
  {
   "cell_type": "code",
   "source": [
    "# Generator Code\n",
    "\n",
    "class Generator(nn.Module):\n",
    "    def __init__(self, ngpu):\n",
    "        super(Generator, self).__init__()\n",
    "        self.ngpu = ngpu\n",
    "        self.main = nn.Sequential(\n",
    "            # input is Z, going into a convolution\n",
    "            nn.ConvTranspose2d( nz, ngf * 8, 4, 1, 0, bias=False),\n",
    "            nn.BatchNorm2d(ngf * 8),\n",
    "            nn.ReLU(True),\n",
    "            # state size. ``(ngf*8) x 4 x 4``\n",
    "            nn.ConvTranspose2d(ngf * 8, ngf * 4, 4, 2, 1, bias=False),\n",
    "            nn.BatchNorm2d(ngf * 4),\n",
    "            nn.ReLU(True),\n",
    "            # state size. ``(ngf*4) x 8 x 8``\n",
    "            nn.ConvTranspose2d( ngf * 4, ngf * 2, 4, 2, 1, bias=False),\n",
    "            nn.BatchNorm2d(ngf * 2),\n",
    "            nn.ReLU(True),\n",
    "            # state size. ``(ngf*2) x 16 x 16``\n",
    "            nn.ConvTranspose2d( ngf * 2, ngf, 4, 2, 1, bias=False),\n",
    "            nn.BatchNorm2d(ngf),\n",
    "            nn.ReLU(True),\n",
    "            # state size. ``(ngf) x 32 x 32``\n",
    "            nn.ConvTranspose2d( ngf, nc, 4, 2, 1, bias=False),\n",
    "            nn.Tanh()\n",
    "            # state size. ``(nc) x 64 x 64``\n",
    "        )\n",
    "        \n",
    "    def forward(self, input):\n",
    "        return self.main(input)"
   ],
   "metadata": {
    "execution": {
     "iopub.status.busy": "2023-04-18T22:01:23.438114Z",
     "iopub.execute_input": "2023-04-18T22:01:23.438617Z",
     "iopub.status.idle": "2023-04-18T22:01:23.448342Z",
     "shell.execute_reply.started": "2023-04-18T22:01:23.438569Z",
     "shell.execute_reply": "2023-04-18T22:01:23.447361Z"
    },
    "trusted": true
   },
   "execution_count": null,
   "outputs": []
  },
  {
   "cell_type": "code",
   "source": [
    "# Discriminator Code\n",
    "\n",
    "class Discriminator(nn.Module):\n",
    "    def __init__(self, ngpu):\n",
    "        super(Discriminator, self).__init__()\n",
    "        self.ngpu = ngpu\n",
    "        self.main = nn.Sequential(\n",
    "            # input is ``(nc) x 64 x 64``\n",
    "            nn.Conv2d(nc, ndf, 4, 2, 1, bias=False),\n",
    "            nn.LeakyReLU(0.2, inplace=True),\n",
    "            # state size. ``(ndf) x 32 x 32``\n",
    "            nn.Conv2d(ndf, ndf * 2, 4, 2, 1, bias=False),\n",
    "            # nn.BatchNorm2d(ndf * 2),\n",
    "            nn.LeakyReLU(0.2, inplace=True),\n",
    "            # state size. ``(ndf*2) x 16 x 16``\n",
    "            nn.Conv2d(ndf * 2, ndf * 4, 4, 2, 1, bias=False),\n",
    "            # nn.BatchNorm2d(ndf * 4),\n",
    "            nn.LeakyReLU(0.2, inplace=True),\n",
    "            # state size. ``(ndf*4) x 8 x 8``\n",
    "            nn.Conv2d(ndf * 4, ndf * 8, 4, 2, 1, bias=False),\n",
    "            # nn.BatchNorm2d(ndf * 8),\n",
    "            nn.LeakyReLU(0.2, inplace=True),\n",
    "            # state size. ``(ndf*8) x 4 x 4``\n",
    "            nn.Conv2d(ndf * 8, 1, 4, 1, 0, bias=False),\n",
    "            nn.Sigmoid()\n",
    "        )\n",
    "\n",
    "    def forward(self, input):\n",
    "        return self.main(input)"
   ],
   "metadata": {
    "execution": {
     "iopub.status.busy": "2023-04-18T22:01:26.692634Z",
     "iopub.execute_input": "2023-04-18T22:01:26.693319Z",
     "iopub.status.idle": "2023-04-18T22:01:26.703428Z",
     "shell.execute_reply.started": "2023-04-18T22:01:26.693267Z",
     "shell.execute_reply": "2023-04-18T22:01:26.702341Z"
    },
    "trusted": true
   },
   "execution_count": null,
   "outputs": []
  },
  {
   "cell_type": "code",
   "source": [
    "# Create the datasets\n",
    "\n",
    "transformations = transforms.Compose([\n",
    "                                transforms.Resize(image_size),\n",
    "                                transforms.CenterCrop(image_size),\n",
    "                                #transforms.Grayscale(),\n",
    "                                transforms.RandomAdjustSharpness(sharpness_factor=2),\n",
    "                                #transforms.RandomAutocontrast(),\n",
    "                                transforms.RandomHorizontalFlip(p=0.5),\n",
    "                                transforms.ToTensor(),\n",
    "                                transforms.Normalize((0.5, 0.5, 0.5), (0.5, 0.5, 0.5)),\n",
    "                            ])\n",
    "\n",
    "data = dset.ImageFolder(root=dataroot, transform=transformations)\n",
    "\n",
    "# Create the dataloader\n",
    "dataloader = torch.utils.data.DataLoader(data, batch_size=batch_size, shuffle=True, num_workers=workers)\n",
    "\n",
    "\n",
    "print(\"Dataset length\", len(dataloader.dataset))\n",
    "\n",
    "# Decide which device we want to run on\n",
    "device = torch.device(\"cuda:0\" if (torch.cuda.is_available() and ngpu > 0) else \"cpu\")\n",
    "print(\"Running on\", device)\n",
    "\n",
    "# Plot some training images\n",
    "real_batch = next(iter(dataloader))\n",
    "plt.figure(figsize=(8, 8))\n",
    "plt.axis(\"off\")\n",
    "plt.title(\"Training Images\")\n",
    "plt.imshow(\n",
    "    np.transpose(vutils.make_grid(real_batch[0].to(device)[:64], padding=2, normalize=True).cpu(), (1, 2, 0)))\n"
   ],
   "metadata": {
    "execution": {
     "iopub.status.busy": "2023-04-18T22:01:28.831776Z",
     "iopub.execute_input": "2023-04-18T22:01:28.832172Z",
     "iopub.status.idle": "2023-04-18T22:01:37.808124Z",
     "shell.execute_reply.started": "2023-04-18T22:01:28.832139Z",
     "shell.execute_reply": "2023-04-18T22:01:37.807121Z"
    },
    "trusted": true
   },
   "execution_count": null,
   "outputs": []
  },
  {
   "cell_type": "code",
   "source": [
    "# Create the generator\n",
    "netG = Generator(ngpu).to(device)\n",
    "\n",
    "# Handle multi-gpu if desired\n",
    "if (device.type == 'cuda') and (ngpu > 1):\n",
    "    netG = nn.DataParallel(netG, list(range(ngpu)))\n",
    "\n",
    "# Apply the weights_init function to randomly initialize all weights\n",
    "#  to mean=0, stdev=0.02.\n",
    "netG.apply(weights_init)\n",
    "\n",
    "# Print the model\n",
    "print(netG)"
   ],
   "metadata": {
    "execution": {
     "iopub.status.busy": "2023-04-18T21:59:38.405716Z",
     "iopub.status.idle": "2023-04-18T21:59:38.406326Z",
     "shell.execute_reply.started": "2023-04-18T21:59:38.405945Z",
     "shell.execute_reply": "2023-04-18T21:59:38.405968Z"
    },
    "trusted": true
   },
   "execution_count": null,
   "outputs": []
  },
  {
   "cell_type": "code",
   "source": [
    "# Create the Discriminator\n",
    "netD = Discriminator(ngpu).to(device)\n",
    "\n",
    "# Handle multi-gpu if desired\n",
    "if (device.type == 'cuda') and (ngpu > 1):\n",
    "    netD = nn.DataParallel(netD, list(range(ngpu)))\n",
    "\n",
    "# Apply the weights_init function to randomly initialize all weights\n",
    "#  to mean=0, stdev=0.2.\n",
    "netD.apply(weights_init)\n",
    "\n",
    "# Print the model\n",
    "print(netD)"
   ],
   "metadata": {
    "execution": {
     "iopub.status.busy": "2023-04-18T21:59:38.408614Z",
     "iopub.status.idle": "2023-04-18T21:59:38.409053Z",
     "shell.execute_reply.started": "2023-04-18T21:59:38.408846Z",
     "shell.execute_reply": "2023-04-18T21:59:38.408872Z"
    },
    "trusted": true
   },
   "execution_count": null,
   "outputs": []
  },
  {
   "cell_type": "code",
   "source": [
    "# Initialize BCELoss function\n",
    "criterion = nn.BCELoss()\n",
    "\n",
    "# Create batch of latent vectors that we will use to visualize\n",
    "#  the progression of the generator\n",
    "fixed_noise = torch.randn(batch_size, nz, 1, 1, device=device)\n",
    "\n",
    "# Establish convention for real and fake labels during training\n",
    "real_label = 1.\n",
    "fake_label = 0.\n",
    "\n",
    "# Setup Adam optimizers for both G and D\n",
    "optimizerD = optim.Adam(netD.parameters(), lr=lr, betas=(beta1, 0.999))\n",
    "optimizerG = optim.Adam(netG.parameters(), lr=lr, betas=(beta1, 0.999))"
   ],
   "metadata": {
    "execution": {
     "iopub.status.busy": "2023-04-18T21:59:38.410591Z",
     "iopub.status.idle": "2023-04-18T21:59:38.411420Z",
     "shell.execute_reply.started": "2023-04-18T21:59:38.411074Z",
     "shell.execute_reply": "2023-04-18T21:59:38.411113Z"
    },
    "trusted": true
   },
   "execution_count": null,
   "outputs": []
  },
  {
   "cell_type": "code",
   "source": [
    "# Training Loop\n",
    "\n",
    "# Lists to keep track of progress\n",
    "img_list = []\n",
    "G_losses = []\n",
    "D_losses = []\n",
    "iters = 0\n",
    "\n",
    "len_ds = len(dataloader)\n",
    "status_step = len_ds // 2\n",
    "\n",
    "print(\"Starting Training Loop...\")\n",
    "# For each epoch\n",
    "for epoch in range(num_epochs):\n",
    "  print(\"Epoch:\", epoch)\n",
    "  # For each batch in the dataloader\n",
    "  for i, data in enumerate(dataloader, 0):\n",
    "      ############################\n",
    "      # (1) Update D network: maximize log(D(x)) + log(1 - D(G(z)))\n",
    "      ###########################\n",
    "      ## Train with all-real batch\n",
    "      netD.zero_grad()\n",
    "      # Format batch\n",
    "      real_cpu = data[0].to(device)\n",
    "      b_size = real_cpu.size(0)\n",
    "      label = torch.full((b_size,), real_label, dtype=torch.float, device=device)\n",
    "      # Forward pass real batch through D\n",
    "      output = netD(real_cpu).view(-1)\n",
    "      # Calculate loss on all-real batch\n",
    "      errD_real = criterion(output, label)\n",
    "      # Calculate gradients for D in backward pass\n",
    "      errD_real.backward()\n",
    "      D_x = output.mean().item()\n",
    "\n",
    "      ## Train with all-fake batch\n",
    "      # Generate batch of latent vectors\n",
    "      noise = torch.randn(b_size, nz, 1, 1, device=device)\n",
    "      # Generate fake image batch with G\n",
    "      fake = netG(noise)\n",
    "      label.fill_(fake_label)\n",
    "      # Classify all fake batch with D\n",
    "      output = netD(fake.detach()).view(-1)\n",
    "      # Calculate D's loss on the all-fake batch\n",
    "      errD_fake = criterion(output, label)\n",
    "      # Calculate the gradients for this batch, accumulated (summed) with previous gradients\n",
    "      errD_fake.backward()\n",
    "      D_G_z1 = output.mean().item()\n",
    "      # Compute error of D as sum over the fake and the real batches\n",
    "      errD = errD_real + errD_fake\n",
    "      # Update D\n",
    "      optimizerD.step()\n",
    "\n",
    "      ############################\n",
    "      # (2) Update G network: maximize log(D(G(z)))\n",
    "      ###########################\n",
    "      netG.zero_grad()\n",
    "      label.fill_(real_label)  # fake labels are real for generator cost\n",
    "      # Since we just updated D, perform another forward pass of all-fake batch through D\n",
    "      output = netD(fake).view(-1)\n",
    "      # Calculate G's loss based on this output\n",
    "      errG = criterion(output, label)\n",
    "      # Calculate gradients for G\n",
    "      errG.backward()\n",
    "      D_G_z2 = output.mean().item()\n",
    "      # Update G\n",
    "      optimizerG.step()\n",
    "\n",
    "      # Output training stats\n",
    "      if i % status_step == 0:\n",
    "          print('[%d/%d][%d/%d]\\tLoss_D: %.4f\\tLoss_G: %.4f\\tD(x): %.4f\\tD(G(z)): %.4f / %.4f'\n",
    "                % (epoch, num_epochs, i, len_ds,\n",
    "                    errD.item(), errG.item(), D_x, D_G_z1, D_G_z2))\n",
    "\n",
    "      # Save Losses for plotting later\n",
    "      G_losses.append(errG.item())\n",
    "      D_losses.append(errD.item())\n",
    "\n",
    "      # Check how the generator is doing by saving G's output on fixed_noise\n",
    "      if (iters % 500 == 0) or ((epoch == num_epochs - 1) and (i == len(dataloader) - 1)):\n",
    "          with torch.no_grad():\n",
    "              fake = netG(fixed_noise).detach().cpu()\n",
    "          img_list.append(vutils.make_grid(fake, padding=2, normalize=True))\n",
    "\n",
    "      iters += 1"
   ],
   "metadata": {
    "execution": {
     "iopub.status.busy": "2023-04-18T21:59:38.413476Z",
     "iopub.status.idle": "2023-04-18T21:59:38.413931Z",
     "shell.execute_reply.started": "2023-04-18T21:59:38.413729Z",
     "shell.execute_reply": "2023-04-18T21:59:38.413753Z"
    },
    "trusted": true
   },
   "execution_count": null,
   "outputs": []
  },
  {
   "cell_type": "code",
   "source": [
    "plt.figure(figsize=(10, 5))\n",
    "plt.title(\"Generator and Discriminator Loss During Training\")\n",
    "plt.plot(G_losses, label=\"G\")\n",
    "plt.plot(D_losses, label=\"D\")\n",
    "plt.xlabel(\"iterations\")\n",
    "plt.ylabel(\"Loss\")\n",
    "plt.legend()\n",
    "plt.show()"
   ],
   "metadata": {
    "execution": {
     "iopub.status.busy": "2023-04-18T21:59:38.415522Z",
     "iopub.status.idle": "2023-04-18T21:59:38.415975Z",
     "shell.execute_reply.started": "2023-04-18T21:59:38.415773Z",
     "shell.execute_reply": "2023-04-18T21:59:38.415796Z"
    },
    "trusted": true
   },
   "execution_count": null,
   "outputs": []
  },
  {
   "cell_type": "code",
   "source": [
    "%%capture\n",
    "fig = plt.figure(figsize=(8, 8))\n",
    "plt.axis(\"off\")\n",
    "ims = [[plt.imshow(np.transpose(i, (1, 2, 0)), animated=True)] for i in img_list]\n",
    "ani = animation.ArtistAnimation(fig, ims, interval=2000, repeat_delay=1000, blit=True)"
   ],
   "metadata": {
    "execution": {
     "iopub.status.busy": "2023-04-18T21:59:38.417514Z",
     "iopub.status.idle": "2023-04-18T21:59:38.418016Z",
     "shell.execute_reply.started": "2023-04-18T21:59:38.417807Z",
     "shell.execute_reply": "2023-04-18T21:59:38.417832Z"
    },
    "trusted": true
   },
   "execution_count": null,
   "outputs": []
  },
  {
   "cell_type": "code",
   "source": [
    "# comment this to *not* save gif in output data\n",
    "ani.save('pokegan.gif', writer = \"pillow\", fps=10)\n",
    "\n",
    "from IPython.display import HTML\n",
    "HTML(ani.to_jshtml())"
   ],
   "metadata": {
    "execution": {
     "iopub.status.busy": "2023-04-18T21:59:38.419450Z",
     "iopub.status.idle": "2023-04-18T21:59:38.420122Z",
     "shell.execute_reply.started": "2023-04-18T21:59:38.419865Z",
     "shell.execute_reply": "2023-04-18T21:59:38.419904Z"
    },
    "trusted": true
   },
   "execution_count": null,
   "outputs": []
  },
  {
   "cell_type": "code",
   "source": [
    "# Grab a batch of real images from the dataloader\n",
    "real_batch = next(iter(dataloader))\n",
    "\n",
    "# Plot the real images\n",
    "plt.figure(figsize=(15, 15))\n",
    "plt.subplot(1, 2, 1)\n",
    "plt.axis(\"off\")\n",
    "plt.title(\"Real Images\")\n",
    "plt.imshow(\n",
    "    np.transpose(vutils.make_grid(real_batch[0].to(device)[:64], padding=5, normalize=True).cpu(), (1, 2, 0)))\n",
    "\n",
    "# Plot the fake images from the last epoch\n",
    "plt.subplot(1, 2, 2)\n",
    "plt.axis(\"off\")\n",
    "plt.title(\"Fake Images\")\n",
    "plt.imshow(np.transpose(img_list[-1], (1, 2, 0)))\n",
    "plt.show()"
   ],
   "metadata": {
    "execution": {
     "iopub.status.busy": "2023-04-18T21:59:38.421399Z",
     "iopub.status.idle": "2023-04-18T21:59:38.422173Z",
     "shell.execute_reply.started": "2023-04-18T21:59:38.421958Z",
     "shell.execute_reply": "2023-04-18T21:59:38.421982Z"
    },
    "trusted": true
   },
   "execution_count": null,
   "outputs": []
  },
  {
   "cell_type": "code",
   "source": [
    "torch.save(netG.state_dict(), \"generator.pt\")\n",
    "torch.save(netD.state_dict(), \"discriminator.pt\")\n",
    "netG.eval()"
   ],
   "metadata": {
    "execution": {
     "iopub.status.busy": "2023-04-18T21:59:38.423493Z",
     "iopub.status.idle": "2023-04-18T21:59:38.423926Z",
     "shell.execute_reply.started": "2023-04-18T21:59:38.423730Z",
     "shell.execute_reply": "2023-04-18T21:59:38.423752Z"
    },
    "trusted": true
   },
   "execution_count": null,
   "outputs": []
  },
  {
   "cell_type": "code",
   "source": [
    "with torch.no_grad():\n",
    "    noise = torch.randn(batch_size, nz, 1, 1, device=device)\n",
    "    \n",
    "    fake = netG(noise).detach().cpu()\n",
    "\n",
    "img_list = [vutils.make_grid(fake, padding=2, normalize=True)]\n",
    "\n",
    "plt.figure(figsize=(15, 15))\n",
    "plt.axis(\"off\")\n",
    "plt.title(\"Other fake images\")\n",
    "plt.imshow(np.transpose(img_list[-1], (1, 2, 0)))\n",
    "plt.show()"
   ],
   "metadata": {
    "execution": {
     "iopub.status.busy": "2023-04-18T21:59:38.427197Z",
     "iopub.status.idle": "2023-04-18T21:59:38.427670Z",
     "shell.execute_reply.started": "2023-04-18T21:59:38.427422Z",
     "shell.execute_reply": "2023-04-18T21:59:38.427453Z"
    },
    "trusted": true
   },
   "execution_count": null,
   "outputs": []
  }
 ]
}
